{
 "cells": [
  {
   "cell_type": "code",
   "execution_count": 1,
   "metadata": {},
   "outputs": [],
   "source": [
    "import pandas as pd"
   ]
  },
  {
   "cell_type": "code",
   "execution_count": 3,
   "metadata": {},
   "outputs": [],
   "source": [
    "df = pd.read_json(\"../data/train.json\")"
   ]
  },
  {
   "cell_type": "code",
   "execution_count": 4,
   "metadata": {},
   "outputs": [
    {
     "data": {
      "text/html": [
       "<div>\n",
       "<style scoped>\n",
       "    .dataframe tbody tr th:only-of-type {\n",
       "        vertical-align: middle;\n",
       "    }\n",
       "\n",
       "    .dataframe tbody tr th {\n",
       "        vertical-align: top;\n",
       "    }\n",
       "\n",
       "    .dataframe thead th {\n",
       "        text-align: right;\n",
       "    }\n",
       "</style>\n",
       "<table border=\"1\" class=\"dataframe\">\n",
       "  <thead>\n",
       "    <tr style=\"text-align: right;\">\n",
       "      <th></th>\n",
       "      <th>id</th>\n",
       "      <th>instruction</th>\n",
       "      <th>output</th>\n",
       "    </tr>\n",
       "  </thead>\n",
       "  <tbody>\n",
       "    <tr>\n",
       "      <th>0</th>\n",
       "      <td>db63fb72-e211-4596-94a4-69617706f7ef</td>\n",
       "      <td>翻譯成文言文：\\n雅裏惱怒地說： 從前在福山田獵時，你誣陷獵官，現在又說這種話。\\n答案：</td>\n",
       "      <td>雅裏怒曰： 昔畋於福山，卿誣獵官，今復有此言。</td>\n",
       "    </tr>\n",
       "    <tr>\n",
       "      <th>1</th>\n",
       "      <td>a48b0e8f-dc7a-4130-acc6-a91cc4a81bd1</td>\n",
       "      <td>沒過十天，鮑泉果然被拘捕。\\n幫我把這句話翻譯成文言文</td>\n",
       "      <td>後未旬，果見囚執。</td>\n",
       "    </tr>\n",
       "    <tr>\n",
       "      <th>2</th>\n",
       "      <td>f98882de-6962-46cf-a8f0-5d534eddda3a</td>\n",
       "      <td>辛未，命吳堅為左丞相兼樞密使，常楙參知政事。\\n把這句話翻譯成現代文。</td>\n",
       "      <td>初五，命令吳堅為左承相兼樞密使，常增為參知政事。</td>\n",
       "    </tr>\n",
       "    <tr>\n",
       "      <th>3</th>\n",
       "      <td>c491b5f1-fe54-4276-8dd2-cbc7a8d0f3c3</td>\n",
       "      <td>十八年，奚、契丹侵犯邊界，以皇上為河北道元帥，信安王為副，率禦史大夫李朝隱、京兆尹裴亻由先等...</td>\n",
       "      <td>十八年，奚、契丹犯塞，以上為河北道元帥，信安王禕為副，帥禦史大夫李朝隱、京兆尹裴伷先等八總管...</td>\n",
       "    </tr>\n",
       "    <tr>\n",
       "      <th>4</th>\n",
       "      <td>bc8d68a3-cfe2-42ee-9d99-415380975642</td>\n",
       "      <td>正月，甲子朔，鼕至，太後享通天宮；赦天下，改元。\\n把這句話翻譯成現代文。</td>\n",
       "      <td>聖曆元年正月，甲子朔，鼕至，太後在通天宮祭祀；大赦天下，更改年號。</td>\n",
       "    </tr>\n",
       "    <tr>\n",
       "      <th>...</th>\n",
       "      <td>...</td>\n",
       "      <td>...</td>\n",
       "      <td>...</td>\n",
       "    </tr>\n",
       "    <tr>\n",
       "      <th>9995</th>\n",
       "      <td>98e706d5-0a33-4b56-9849-fe970f7dfcb2</td>\n",
       "      <td>所派的官員還未到哈密，脫脫便得暴病去世。\\n這句話在古代怎麼說：</td>\n",
       "      <td>未至，而脫脫以暴疾卒。</td>\n",
       "    </tr>\n",
       "    <tr>\n",
       "      <th>9996</th>\n",
       "      <td>9f38308a-63b4-46fb-9262-e5442ab23a6b</td>\n",
       "      <td>翻譯成文言文：\\n李聽命令士兵收起武器在野外駐紮，魏州人纔安定下來。</td>\n",
       "      <td>聽敕士櫜兵野次，魏人乃安。</td>\n",
       "    </tr>\n",
       "    <tr>\n",
       "      <th>9997</th>\n",
       "      <td>3d714828-0cce-4806-8af0-11fd863446ae</td>\n",
       "      <td>翻譯成文言文：\\n因此忠貞的臣子，並非不想竭盡忠誠，竭盡忠誠實在太難瞭。</td>\n",
       "      <td>故忠貞之臣，非不欲竭誠。竭誠者，乃是極難。</td>\n",
       "    </tr>\n",
       "    <tr>\n",
       "      <th>9998</th>\n",
       "      <td>df77d459-7afe-4b50-81f9-fba03ee94ee2</td>\n",
       "      <td>翻譯成現代文：\\n祿山構逆，承嗣與張忠誌等為前鋒，陷河洛。\\n答案：</td>\n",
       "      <td>安祿山叛亂，田承嗣和張忠誌等擔任先鋒，攻陷河洛。</td>\n",
       "    </tr>\n",
       "    <tr>\n",
       "      <th>9999</th>\n",
       "      <td>6179862a-fb53-408a-a4ad-cfbc9065171e</td>\n",
       "      <td>翻譯成文言文：\\n五年春正月丙午，齊獻武王在晉陽逝世，秘密不公布喪事。</td>\n",
       "      <td>五年春正月丙午，齊獻武王薨於晉陽，秘不發喪。</td>\n",
       "    </tr>\n",
       "  </tbody>\n",
       "</table>\n",
       "<p>10000 rows × 3 columns</p>\n",
       "</div>"
      ],
      "text/plain": [
       "                                        id  \\\n",
       "0     db63fb72-e211-4596-94a4-69617706f7ef   \n",
       "1     a48b0e8f-dc7a-4130-acc6-a91cc4a81bd1   \n",
       "2     f98882de-6962-46cf-a8f0-5d534eddda3a   \n",
       "3     c491b5f1-fe54-4276-8dd2-cbc7a8d0f3c3   \n",
       "4     bc8d68a3-cfe2-42ee-9d99-415380975642   \n",
       "...                                    ...   \n",
       "9995  98e706d5-0a33-4b56-9849-fe970f7dfcb2   \n",
       "9996  9f38308a-63b4-46fb-9262-e5442ab23a6b   \n",
       "9997  3d714828-0cce-4806-8af0-11fd863446ae   \n",
       "9998  df77d459-7afe-4b50-81f9-fba03ee94ee2   \n",
       "9999  6179862a-fb53-408a-a4ad-cfbc9065171e   \n",
       "\n",
       "                                            instruction  \\\n",
       "0         翻譯成文言文：\\n雅裏惱怒地說： 從前在福山田獵時，你誣陷獵官，現在又說這種話。\\n答案：   \n",
       "1                           沒過十天，鮑泉果然被拘捕。\\n幫我把這句話翻譯成文言文   \n",
       "2                   辛未，命吳堅為左丞相兼樞密使，常楙參知政事。\\n把這句話翻譯成現代文。   \n",
       "3     十八年，奚、契丹侵犯邊界，以皇上為河北道元帥，信安王為副，率禦史大夫李朝隱、京兆尹裴亻由先等...   \n",
       "4                 正月，甲子朔，鼕至，太後享通天宮；赦天下，改元。\\n把這句話翻譯成現代文。   \n",
       "...                                                 ...   \n",
       "9995                   所派的官員還未到哈密，脫脫便得暴病去世。\\n這句話在古代怎麼說：   \n",
       "9996                 翻譯成文言文：\\n李聽命令士兵收起武器在野外駐紮，魏州人纔安定下來。   \n",
       "9997               翻譯成文言文：\\n因此忠貞的臣子，並非不想竭盡忠誠，竭盡忠誠實在太難瞭。   \n",
       "9998                 翻譯成現代文：\\n祿山構逆，承嗣與張忠誌等為前鋒，陷河洛。\\n答案：   \n",
       "9999                翻譯成文言文：\\n五年春正月丙午，齊獻武王在晉陽逝世，秘密不公布喪事。   \n",
       "\n",
       "                                                 output  \n",
       "0                               雅裏怒曰： 昔畋於福山，卿誣獵官，今復有此言。  \n",
       "1                                             後未旬，果見囚執。  \n",
       "2                              初五，命令吳堅為左承相兼樞密使，常增為參知政事。  \n",
       "3     十八年，奚、契丹犯塞，以上為河北道元帥，信安王禕為副，帥禦史大夫李朝隱、京兆尹裴伷先等八總管...  \n",
       "4                     聖曆元年正月，甲子朔，鼕至，太後在通天宮祭祀；大赦天下，更改年號。  \n",
       "...                                                 ...  \n",
       "9995                                        未至，而脫脫以暴疾卒。  \n",
       "9996                                      聽敕士櫜兵野次，魏人乃安。  \n",
       "9997                              故忠貞之臣，非不欲竭誠。竭誠者，乃是極難。  \n",
       "9998                           安祿山叛亂，田承嗣和張忠誌等擔任先鋒，攻陷河洛。  \n",
       "9999                             五年春正月丙午，齊獻武王薨於晉陽，秘不發喪。  \n",
       "\n",
       "[10000 rows x 3 columns]"
      ]
     },
     "execution_count": 4,
     "metadata": {},
     "output_type": "execute_result"
    }
   ],
   "source": [
    "df"
   ]
  },
  {
   "cell_type": "markdown",
   "metadata": {},
   "source": [
    "=> 有各種format的prompt"
   ]
  },
  {
   "cell_type": "code",
   "execution_count": 17,
   "metadata": {},
   "outputs": [
    {
     "data": {
      "text/plain": [
       "-1"
      ]
     },
     "execution_count": 17,
     "metadata": {},
     "output_type": "execute_result"
    }
   ],
   "source": [
    "df['instruction'][1000].find(\"翻譯成\")"
   ]
  },
  {
   "cell_type": "code",
   "execution_count": 18,
   "metadata": {},
   "outputs": [],
   "source": [
    "df['task_description_front'] = df.apply(lambda row: row['instruction'].find(\"翻譯成\") == 0, axis=1)"
   ]
  },
  {
   "cell_type": "code",
   "execution_count": 19,
   "metadata": {},
   "outputs": [
    {
     "data": {
      "text/plain": [
       "count     10000\n",
       "unique        2\n",
       "top       False\n",
       "freq       7900\n",
       "Name: task_description_front, dtype: object"
      ]
     },
     "execution_count": 19,
     "metadata": {},
     "output_type": "execute_result"
    }
   ],
   "source": [
    "df['task_description_front'].describe()"
   ]
  },
  {
   "cell_type": "code",
   "execution_count": 5,
   "metadata": {},
   "outputs": [],
   "source": [
    "df['ins_len'] = df.apply(lambda row: len(row['instruction']), axis=1)\n",
    "df['output_len'] = df.apply(lambda row: len(row['output']), axis=1)"
   ]
  },
  {
   "cell_type": "code",
   "execution_count": 6,
   "metadata": {},
   "outputs": [
    {
     "data": {
      "text/plain": [
       "count    10000.000000\n",
       "mean        38.163000\n",
       "std         20.060595\n",
       "min          9.000000\n",
       "25%         25.000000\n",
       "50%         33.000000\n",
       "75%         46.000000\n",
       "max        326.000000\n",
       "Name: ins_len, dtype: float64"
      ]
     },
     "execution_count": 6,
     "metadata": {},
     "output_type": "execute_result"
    }
   ],
   "source": [
    "df['ins_len'].describe()"
   ]
  },
  {
   "cell_type": "code",
   "execution_count": 7,
   "metadata": {},
   "outputs": [
    {
     "data": {
      "text/plain": [
       "count    10000.000000\n",
       "mean        27.461900\n",
       "std         19.192514\n",
       "min          1.000000\n",
       "25%         14.000000\n",
       "50%         23.000000\n",
       "75%         35.000000\n",
       "max        252.000000\n",
       "Name: output_len, dtype: float64"
      ]
     },
     "execution_count": 7,
     "metadata": {},
     "output_type": "execute_result"
    }
   ],
   "source": [
    "df['output_len'].describe()"
   ]
  },
  {
   "cell_type": "code",
   "execution_count": 9,
   "metadata": {},
   "outputs": [
    {
     "data": {
      "text/plain": [
       "640"
      ]
     },
     "execution_count": 9,
     "metadata": {},
     "output_type": "execute_result"
    }
   ],
   "source": [
    "512+128"
   ]
  },
  {
   "cell_type": "code",
   "execution_count": 8,
   "metadata": {},
   "outputs": [
    {
     "data": {
      "text/plain": [
       "582"
      ]
     },
     "execution_count": 8,
     "metadata": {},
     "output_type": "execute_result"
    }
   ],
   "source": [
    "326+256"
   ]
  }
 ],
 "metadata": {
  "kernelspec": {
   "display_name": "ADL_hw3",
   "language": "python",
   "name": "python3"
  },
  "language_info": {
   "codemirror_mode": {
    "name": "ipython",
    "version": 3
   },
   "file_extension": ".py",
   "mimetype": "text/x-python",
   "name": "python",
   "nbconvert_exporter": "python",
   "pygments_lexer": "ipython3",
   "version": "3.9.18"
  }
 },
 "nbformat": 4,
 "nbformat_minor": 2
}

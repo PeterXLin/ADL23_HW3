{
 "cells": [
  {
   "cell_type": "code",
   "execution_count": null,
   "metadata": {},
   "outputs": [],
   "source": [
    "import matplotlib.pyplot as plt\n",
    "\n",
    "# 產生一些示例數據\n",
    "x = [0, 50, 100, 150, 200]\n",
    "y = [5.462, 3.9153578577041626, 3.6953121728897096, 3.694479305267334, 3.6793632287979126]\n",
    "# 使用Matplotlib繪製折線圖\n",
    "plt.plot(x, y, label='learning curve on the public testing set')  # x是X軸的數據，y是Y軸的數據，label是圖例標籤\n",
    "\n",
    "# 添加標題和標籤\n",
    "plt.title('learning curve on the public testing set')\n",
    "plt.xlabel('steps')\n",
    "plt.ylabel('mean perplexity')\n",
    "\n",
    "# 添加圖例\n",
    "plt.legend()\n",
    "\n",
    "# 顯示圖形\n",
    "plt.show()"
   ]
  }
 ],
 "metadata": {
  "language_info": {
   "name": "python"
  }
 },
 "nbformat": 4,
 "nbformat_minor": 2
}
